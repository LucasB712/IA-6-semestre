{
 "cells": [
  {
   "cell_type": "code",
   "execution_count": 1,
   "id": "f6ba8eea",
   "metadata": {},
   "outputs": [],
   "source": [
    "import pandas as pd\n",
    "import numpy as np\n",
    "from sklearn.model_selection import train_test_split, GridSearchCV\n",
    "from sklearn.tree import DecisionTreeClassifier\n",
    "from sklearn.metrics import accuracy_score\n",
    "\n",
    "from sklearn.model_selection import train_test_split\n"
   ]
  },
  {
   "cell_type": "code",
   "execution_count": 2,
   "id": "0591128d",
   "metadata": {},
   "outputs": [],
   "source": [
    "df = pd.read_excel('Diabetes_Dataset_Missing_Data.xlsx')"
   ]
  },
  {
   "cell_type": "code",
   "execution_count": 3,
   "id": "799a265c",
   "metadata": {},
   "outputs": [
    {
     "data": {
      "text/html": [
       "<div>\n",
       "<style scoped>\n",
       "    .dataframe tbody tr th:only-of-type {\n",
       "        vertical-align: middle;\n",
       "    }\n",
       "\n",
       "    .dataframe tbody tr th {\n",
       "        vertical-align: top;\n",
       "    }\n",
       "\n",
       "    .dataframe thead th {\n",
       "        text-align: right;\n",
       "    }\n",
       "</style>\n",
       "<table border=\"1\" class=\"dataframe\">\n",
       "  <thead>\n",
       "    <tr style=\"text-align: right;\">\n",
       "      <th></th>\n",
       "      <th>Pregnancies</th>\n",
       "      <th>Glucose</th>\n",
       "      <th>BloodPressure</th>\n",
       "      <th>SkinThickness</th>\n",
       "      <th>Insulin</th>\n",
       "      <th>BMI</th>\n",
       "      <th>familyHistoryDiabetes</th>\n",
       "      <th>Age</th>\n",
       "      <th>Outcome</th>\n",
       "    </tr>\n",
       "  </thead>\n",
       "  <tbody>\n",
       "    <tr>\n",
       "      <th>0</th>\n",
       "      <td>1</td>\n",
       "      <td>0</td>\n",
       "      <td>48</td>\n",
       "      <td>NaN</td>\n",
       "      <td>0.0</td>\n",
       "      <td>24.7</td>\n",
       "      <td>0.140</td>\n",
       "      <td>22</td>\n",
       "      <td>0</td>\n",
       "    </tr>\n",
       "    <tr>\n",
       "      <th>1</th>\n",
       "      <td>1</td>\n",
       "      <td>0</td>\n",
       "      <td>74</td>\n",
       "      <td>NaN</td>\n",
       "      <td>23.0</td>\n",
       "      <td>27.7</td>\n",
       "      <td>0.299</td>\n",
       "      <td>21</td>\n",
       "      <td>0</td>\n",
       "    </tr>\n",
       "    <tr>\n",
       "      <th>2</th>\n",
       "      <td>1</td>\n",
       "      <td>0</td>\n",
       "      <td>68</td>\n",
       "      <td>35.0</td>\n",
       "      <td>0.0</td>\n",
       "      <td>32.0</td>\n",
       "      <td>0.389</td>\n",
       "      <td>22</td>\n",
       "      <td>0</td>\n",
       "    </tr>\n",
       "    <tr>\n",
       "      <th>3</th>\n",
       "      <td>5</td>\n",
       "      <td>0</td>\n",
       "      <td>80</td>\n",
       "      <td>32.0</td>\n",
       "      <td>0.0</td>\n",
       "      <td>41.0</td>\n",
       "      <td>0.346</td>\n",
       "      <td>37</td>\n",
       "      <td>1</td>\n",
       "    </tr>\n",
       "    <tr>\n",
       "      <th>4</th>\n",
       "      <td>6</td>\n",
       "      <td>0</td>\n",
       "      <td>68</td>\n",
       "      <td>41.0</td>\n",
       "      <td>0.0</td>\n",
       "      <td>39.0</td>\n",
       "      <td>0.727</td>\n",
       "      <td>41</td>\n",
       "      <td>1</td>\n",
       "    </tr>\n",
       "  </tbody>\n",
       "</table>\n",
       "</div>"
      ],
      "text/plain": [
       "   Pregnancies  Glucose  BloodPressure  SkinThickness  Insulin   BMI  \\\n",
       "0            1        0             48            NaN      0.0  24.7   \n",
       "1            1        0             74            NaN     23.0  27.7   \n",
       "2            1        0             68           35.0      0.0  32.0   \n",
       "3            5        0             80           32.0      0.0  41.0   \n",
       "4            6        0             68           41.0      0.0  39.0   \n",
       "\n",
       "   familyHistoryDiabetes  Age  Outcome  \n",
       "0                  0.140   22        0  \n",
       "1                  0.299   21        0  \n",
       "2                  0.389   22        0  \n",
       "3                  0.346   37        1  \n",
       "4                  0.727   41        1  "
      ]
     },
     "execution_count": 3,
     "metadata": {},
     "output_type": "execute_result"
    }
   ],
   "source": [
    "df.head()"
   ]
  },
  {
   "cell_type": "code",
   "execution_count": 4,
   "id": "3e4abefc",
   "metadata": {},
   "outputs": [
    {
     "data": {
      "text/plain": [
       "0        0\n",
       "1        0\n",
       "2        0\n",
       "3        0\n",
       "4        0\n",
       "      ... \n",
       "763    197\n",
       "764    197\n",
       "765    197\n",
       "766    198\n",
       "767    199\n",
       "Name: Glucose, Length: 768, dtype: int64"
      ]
     },
     "execution_count": 4,
     "metadata": {},
     "output_type": "execute_result"
    }
   ],
   "source": [
    "df['Glucose']"
   ]
  },
  {
   "cell_type": "code",
   "execution_count": 5,
   "id": "50027265",
   "metadata": {},
   "outputs": [],
   "source": [
    "X = df[['Age','Pregnancies','Glucose']]\n",
    "y = df['Outcome']\n"
   ]
  },
  {
   "cell_type": "code",
   "execution_count": 6,
   "id": "11466e35",
   "metadata": {},
   "outputs": [],
   "source": [
    "from sklearn.model_selection import train_test_split\n",
    "\n",
    "X_train, X_test, y_train, y_test = train_test_split(X, y, shuffle=False, test_size=0.3)\n",
    "\n",
    "\n"
   ]
  },
  {
   "cell_type": "code",
   "execution_count": 7,
   "id": "73a556d0",
   "metadata": {},
   "outputs": [
    {
     "name": "stdout",
     "output_type": "stream",
     "text": [
      "Best hyperparameters: {'criterion': 'entropy', 'max_depth': 3, 'min_samples_leaf': 1}\n"
     ]
    }
   ],
   "source": [
    "param_grid = {\n",
    "'max_depth': [3, 5, 7, 10],\n",
    "'min_samples_leaf': [1, 2, 4],\n",
    "'criterion': ['gini', 'entropy']\n",
    "}\n",
    "# Executar pesquisa em grade com cross validation\n",
    "grid_search = GridSearchCV(DecisionTreeClassifier(), param_grid, cv=5)\n",
    "grid_search.fit(X_train, y_train)\n",
    "# Melhor combinação de parâmetros\n",
    "print(f'Best hyperparameters: {grid_search.best_params_}')\n"
   ]
  },
  {
   "cell_type": "code",
   "execution_count": 8,
   "id": "eeae578f",
   "metadata": {},
   "outputs": [],
   "source": [
    "DTmodel = grid_search.best_estimator_\n",
    "# Treine o modelo de árvore de decisão com os melhores parâmetros\n"
   ]
  },
  {
   "cell_type": "code",
   "execution_count": 9,
   "id": "32f12081",
   "metadata": {},
   "outputs": [
    {
     "name": "stdout",
     "output_type": "stream",
     "text": [
      "Model accuracy: 0.3593073593073593\n"
     ]
    }
   ],
   "source": [
    "DTmodel.fit(X_train, y_train)\n",
    "# Faça previsões usando o modelo de árvore de decisão\n",
    "y_pred_DT = DTmodel.predict(X_test)\n",
    "# Avalie o desempenho do modelo de árvore de decisão\n",
    "accuracyDT = accuracy_score(y_test, y_pred_DT)\n",
    "print(f'Model accuracy: {accuracyDT}')\n"
   ]
  },
  {
   "cell_type": "code",
   "execution_count": 81,
   "id": "92a46ed5",
   "metadata": {},
   "outputs": [
    {
     "name": "stdout",
     "output_type": "stream",
     "text": [
      "Best hyperparameters: {'criterion': 'entropy', 'max_depth': 609, 'min_samples_leaf': 10}\n"
     ]
    }
   ],
   "source": [
    "param_grid = {\n",
    "'max_depth': [609,1209, 1809],\n",
    "'min_samples_leaf': [3, 7, 10],\n",
    "'criterion': ['gini','entropy']\n",
    "}\n",
    "# Executar pesquisa em grade com cross validation\n",
    "grid_search = GridSearchCV(DecisionTreeClassifier(), param_grid, cv=5)\n",
    "grid_search.fit(X_train, y_train)\n",
    "# Melhor combinação de parâmetros\n",
    "print(f'Best hyperparameters: {grid_search.best_params_}')\n"
   ]
  },
  {
   "cell_type": "code",
   "execution_count": 82,
   "id": "d317aac9",
   "metadata": {},
   "outputs": [
    {
     "name": "stdout",
     "output_type": "stream",
     "text": [
      "Model accuracy: 0.670995670995671\n"
     ]
    }
   ],
   "source": [
    "DTmodel = grid_search.best_estimator_\n",
    "DTmodel.fit(X_train, y_train)\n",
    "# Faça previsões usando o modelo de árvore de decisão\n",
    "y_pred_DT = DTmodel.predict(X_test)\n",
    "# Avalie o desempenho do modelo de árvore de decisão\n",
    "accuracyDT = accuracy_score(y_test, y_pred_DT)\n",
    "print(f'Model accuracy: {accuracyDT}')\n"
   ]
  }
 ],
 "metadata": {
  "kernelspec": {
   "display_name": "Python 3",
   "language": "python",
   "name": "python3"
  },
  "language_info": {
   "codemirror_mode": {
    "name": "ipython",
    "version": 3
   },
   "file_extension": ".py",
   "mimetype": "text/x-python",
   "name": "python",
   "nbconvert_exporter": "python",
   "pygments_lexer": "ipython3",
   "version": "3.12.3"
  }
 },
 "nbformat": 4,
 "nbformat_minor": 5
}

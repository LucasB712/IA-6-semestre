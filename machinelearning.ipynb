{
 "cells": [
  {
   "cell_type": "code",
   "execution_count": 2,
   "id": "58c77830",
   "metadata": {},
   "outputs": [],
   "source": [
    "import pandas as pd\n",
    "\n",
    "#Importar Dataset\n",
    "df = pd.read_excel('Diabetes_Dataset_Missing_Data.xlsx')\n",
    "\n",
    "#Selecionar as variáveis ​​preditoras e a variável de resposta\n",
    "X = df[['Age','Pregnancies','Glucose']]\n",
    "y = df['Outcome']\n",
    "\n",
    "#Dividir em conjunto de treinamento e conjunto de teste\n",
    "from sklearn.model_selection import train_test_split\n",
    "X_train, X_test, y_train, y_test = train_test_split(X, y, shuffle=True, test_size=0.1)\n",
    "\n",
    "#X_train, X_test, y_train, y_test = train_test_split(X, y, shuffle=False, test_size=0.9) ==  0.619942196531792\n",
    "#X_train, X_test, y_train, y_test = train_test_split(X, y, shuffle=True, test_size=0.9) ==  0.7485549132947977\n",
    "#X_train, X_test, y_train, y_test = train_test_split(X, y, shuffle=True, test_size=0.1) == Model accuracy: 0.8311688311688312"
   ]
  },
  {
   "cell_type": "code",
   "execution_count": 3,
   "id": "f3a7f372",
   "metadata": {},
   "outputs": [
    {
     "data": {
      "text/plain": [
       "0      22\n",
       "1      21\n",
       "2      22\n",
       "3      37\n",
       "4      41\n",
       "       ..\n",
       "763    31\n",
       "764    39\n",
       "765    62\n",
       "766    28\n",
       "767    22\n",
       "Name: Age, Length: 768, dtype: int64"
      ]
     },
     "execution_count": 3,
     "metadata": {},
     "output_type": "execute_result"
    }
   ],
   "source": [
    "df['Age']"
   ]
  },
  {
   "cell_type": "code",
   "execution_count": null,
   "id": "f6bc21cb",
   "metadata": {},
   "outputs": [],
   "source": []
  },
  {
   "cell_type": "code",
   "execution_count": null,
   "id": "2838c484",
   "metadata": {},
   "outputs": [],
   "source": []
  },
  {
   "cell_type": "code",
   "execution_count": null,
   "id": "c284529e",
   "metadata": {},
   "outputs": [],
   "source": []
  },
  {
   "cell_type": "code",
   "execution_count": null,
   "id": "73ed4c12",
   "metadata": {},
   "outputs": [],
   "source": []
  },
  {
   "cell_type": "code",
   "execution_count": 4,
   "id": "2a285739",
   "metadata": {},
   "outputs": [
    {
     "name": "stdout",
     "output_type": "stream",
     "text": [
      "Model accuracy: 0.8051948051948052\n"
     ]
    }
   ],
   "source": [
    "#Crie o modelo KNN para variável de resposta categórica\n",
    "from sklearn.neighbors import KNeighborsClassifier\n",
    "KNNmodel = KNeighborsClassifier(n_neighbors=20)\n",
    "\n",
    "#Treinar o modelo KNN para a variável de resposta categórica\n",
    "KNNmodel.fit(X_train,y_train)\n",
    "\n",
    "#Faça uma previsão usando o modelo KNN para variável de resposta categórica\n",
    "y_pred_KNN = KNNmodel.predict(X_test)\n",
    "\n",
    "#Avalie o desempenho do modelo KNN para variável de resposta categórica\n",
    "from sklearn.metrics import accuracy_score\n",
    "accuracy_KNN = accuracy_score(y_test, y_pred_KNN)\n",
    "print(f'Model accuracy: {accuracy_KNN}')\n"
   ]
  },
  {
   "cell_type": "code",
   "execution_count": 5,
   "id": "d2fea043",
   "metadata": {},
   "outputs": [
    {
     "name": "stderr",
     "output_type": "stream",
     "text": [
      "c:\\Python312\\Lib\\site-packages\\sklearn\\utils\\validation.py:2739: UserWarning: X does not have valid feature names, but KNeighborsClassifier was fitted with feature names\n",
      "  warnings.warn(\n"
     ]
    }
   ],
   "source": [
    "import numpy as np\n",
    "X_new_KNN = np.array([[80, 15, 100]])\n",
    "y_new_pred_KNN = KNNmodel.predict(X_new_KNN)\n",
    "\n"
   ]
  },
  {
   "cell_type": "code",
   "execution_count": 6,
   "id": "d76faab7",
   "metadata": {},
   "outputs": [
    {
     "name": "stdout",
     "output_type": "stream",
     "text": [
      "[0]\n"
     ]
    }
   ],
   "source": [
    "print(y_new_pred_KNN)"
   ]
  },
  {
   "cell_type": "code",
   "execution_count": null,
   "id": "9973b414",
   "metadata": {},
   "outputs": [],
   "source": []
  },
  {
   "cell_type": "code",
   "execution_count": null,
   "id": "451cbda8",
   "metadata": {},
   "outputs": [],
   "source": []
  },
  {
   "cell_type": "code",
   "execution_count": null,
   "id": "c01dccae",
   "metadata": {},
   "outputs": [],
   "source": []
  }
 ],
 "metadata": {
  "kernelspec": {
   "display_name": "Python 3",
   "language": "python",
   "name": "python3"
  },
  "language_info": {
   "codemirror_mode": {
    "name": "ipython",
    "version": 3
   },
   "file_extension": ".py",
   "mimetype": "text/x-python",
   "name": "python",
   "nbconvert_exporter": "python",
   "pygments_lexer": "ipython3",
   "version": "3.12.3"
  }
 },
 "nbformat": 4,
 "nbformat_minor": 5
}
